{
  "nbformat": 4,
  "nbformat_minor": 0,
  "metadata": {
    "colab": {
      "provenance": [],
      "authorship_tag": "ABX9TyOafXukJJf4gjAm1Gqvd4CL",
      "include_colab_link": true
    },
    "kernelspec": {
      "name": "python3",
      "display_name": "Python 3"
    },
    "language_info": {
      "name": "python"
    }
  },
  "cells": [
    {
      "cell_type": "markdown",
      "metadata": {
        "id": "view-in-github",
        "colab_type": "text"
      },
      "source": [
        "<a href=\"https://colab.research.google.com/github/danielarruda1000/geo_visao_comp/blob/main/Lista4.ipynb\" target=\"_parent\"><img src=\"https://colab.research.google.com/assets/colab-badge.svg\" alt=\"Open In Colab\"/></a>"
      ]
    },
    {
      "cell_type": "code",
      "execution_count": null,
      "metadata": {
        "id": "cDX3oIEyW9E4"
      },
      "outputs": [],
      "source": []
    },
    {
      "cell_type": "markdown",
      "source": [
        "# 1) Função para calcular usando produto vetorial\n",
        "## a) Ponto que é a interseção de duas retas\n",
        "## b) Reta que passa por dois pontos"
      ],
      "metadata": {
        "id": "SyfsJ_GXXLq4"
      }
    },
    {
      "cell_type": "code",
      "source": [
        "import numpy as np\n",
        "import cv2"
      ],
      "metadata": {
        "id": "4n0ZTOpvXWCy"
      },
      "execution_count": 1,
      "outputs": []
    },
    {
      "cell_type": "markdown",
      "source": [
        "# a) Ponto que é a interseção de duas retas"
      ],
      "metadata": {
        "id": "O2GsR07TXZaU"
      }
    },
    {
      "cell_type": "code",
      "source": [
        "# Em OpenCV\n",
        "\n",
        "def reta_intesercao_cv(p1, p2):\n",
        "\n",
        "  if type(p1) != tuple:\n",
        "    p1 = (p1[0], p1[1], p1[2])\n",
        "  if type(p2) != tuple:\n",
        "    p2 = (p2[0], p2[1], p2[2])\n",
        "\n",
        "\n",
        "  a1, a2, a3 = np.array(p1[0]), np.array(p1[1]), np.array(p1[2])\n",
        "  b1, b2, b3 = np.array(p2[0]), np.array(p2[1]), np.array(p2[2])\n",
        "\n",
        "  x = cv2.subtract(cv2.multiply(a2, b3), cv2.multiply(a3,b2))\n",
        "  y = cv2.subtract(cv2.multiply(a3,b1), cv2.multiply(a1, b3))\n",
        "  z = cv2.subtract(cv2.multiply(a1, b2), cv2.multiply(a2,b1))\n",
        "\n",
        "  reta = np.array([x,y,z]).reshape(1,3)[0]\n",
        "\n",
        "  return reta\n"
      ],
      "metadata": {
        "id": "xjZA3vq-Xv41"
      },
      "execution_count": 3,
      "outputs": []
    },
    {
      "cell_type": "code",
      "source": [
        "# Em OpenCV\n",
        "def ponto_intesercao_cv(r1, r2):\n",
        "\n",
        "  reta = reta_intesercao_cv(r1,r2)\n",
        "  #print(reta)\n",
        "\n",
        "  a = float(reta[0])\n",
        "  b = float(reta[1])\n",
        "  c = float(reta[2])\n",
        "\n",
        "\n",
        "  ponto_a = cv2.divide(a, c)[0][0]\n",
        "  ponto_b = cv2.divide(b, c)[0][0]\n",
        "\n",
        "  return round(ponto_a,1), round(ponto_b,1)"
      ],
      "metadata": {
        "id": "QgssM-_6XvAp"
      },
      "execution_count": 14,
      "outputs": []
    },
    {
      "cell_type": "code",
      "source": [
        "# Lado esquerdo\n",
        "# Aresta superior\n",
        "a = (387, 279, 1)\n",
        "b = (482, 340, 1)\n",
        "reta_ab = reta_intesercao_cv(a, b)\n",
        "print('Reta A-B', reta_ab)\n",
        "\n",
        "# Aresta inferior\n",
        "d = (387, 397, 1)\n",
        "e = (482, 493, 1)\n",
        "reta_de = reta_intesercao_cv(d, e)\n",
        "print('Reta D-E', reta_de)\n",
        "ponto_fuga_esquerdo = ponto_intesercao_cv(reta_ab, reta_de)\n",
        "print('Ponto de fuga esquerdo:', ponto_fuga_esquerdo,'\\n')\n",
        "\n",
        "# Lado direito\n",
        "# Aresta superior\n",
        "b = (482, 340, 1)\n",
        "c = (590, 260, 1)\n",
        "reta_bc = reta_intesercao_cv(b,c)\n",
        "print('Reta B-C', reta_bc)\n",
        "\n",
        "# Aresta inferior\n",
        "e = (482, 493, 1)\n",
        "f = (590, 368, 1)\n",
        "reta_ef = reta_intesercao_cv(e,f)\n",
        "print('Reta E-F', reta_ef)\n",
        "ponto_fuga_direito = ponto_intesercao_cv(reta_bc, reta_ef)\n",
        "print('Ponto de fuga direito:', ponto_fuga_direito)\n"
      ],
      "metadata": {
        "colab": {
          "base_uri": "https://localhost:8080/"
        },
        "id": "46buNsJXg2yy",
        "outputId": "57446fc9-4c99-47bc-9294-949a6cb19fb4"
      },
      "execution_count": 108,
      "outputs": [
        {
          "output_type": "stream",
          "name": "stdout",
          "text": [
            "Reta A-B [  -61    95 -2898]\n",
            "Reta D-E [ -96   95 -563]\n",
            "Ponto de fuga esquerdo: (np.float64(66.7), np.float64(73.3)) \n",
            "\n",
            "Reta B-C [    80    108 -75280]\n",
            "Reta E-F [    125     108 -113494]\n",
            "Ponto de fuga direito: (np.float64(849.2), np.float64(68.0))\n"
          ]
        }
      ]
    },
    {
      "cell_type": "code",
      "source": [
        "pf_esq = (int(ponto_fuga_esquerdo[0]), int(ponto_fuga_esquerdo[1]), 1)\n",
        "pf_dir = (int(ponto_fuga_direito[0]), int(ponto_fuga_direito[1]), 1)\n",
        "print('Ponto de fuga esquerdo:', pf_esq, 'Ponto de fuga direito:',pf_dir)"
      ],
      "metadata": {
        "colab": {
          "base_uri": "https://localhost:8080/"
        },
        "id": "zOBdUqZHh_LO",
        "outputId": "3261c9ab-7f87-4ad7-c67f-caa518ac9bd3"
      },
      "execution_count": 109,
      "outputs": [
        {
          "output_type": "stream",
          "name": "stdout",
          "text": [
            "Ponto de fuga esquerdo: (66, 73, 1) Ponto de fuga direito: (849, 68, 1)\n"
          ]
        }
      ]
    },
    {
      "cell_type": "code",
      "source": [
        "reta_horizonte = reta_intesercao_cv(pf_esq, pf_dir)\n",
        "print(reta_horizonte)\n",
        "print(f'Formato de função: {reta_horizonte[0]}x + {reta_horizonte[1]}y + {reta_horizonte[2]} = 0')"
      ],
      "metadata": {
        "colab": {
          "base_uri": "https://localhost:8080/"
        },
        "id": "HiGaWUhTg21h",
        "outputId": "7fb71033-d949-4b9d-90dc-a514b3503d1d"
      },
      "execution_count": 110,
      "outputs": [
        {
          "output_type": "stream",
          "name": "stdout",
          "text": [
            "[     5    783 -57489]\n",
            "Formato de função: 5x + 783y + -57489 = 0\n"
          ]
        }
      ]
    },
    {
      "cell_type": "markdown",
      "source": [
        "# Visualização"
      ],
      "metadata": {
        "id": "nK8pnoS4vMyf"
      }
    },
    {
      "cell_type": "code",
      "source": [
        "img = np.ones((1000, 1000, 3), dtype=np.uint8) * 255\n",
        "arestas = [\n",
        "  ((a[0], a[1]), (b[0], b[1])),\n",
        "  ((d[0], d[1]), (e[0], e[1])),\n",
        "  ((d[0], d[1]), (a[0], a[1])),\n",
        "  ((b[0], b[1]), (e[0], e[1])),\n",
        "\n",
        "\n",
        "  ((b[0], b[1]), (c[0], c[1])),\n",
        "  ((f[0], f[1]), (e[0], e[1])),\n",
        "  ((c[0], c[1]), (f[0], f[1])),\n",
        "]\n",
        "for p_1, p_2 in arestas:\n",
        "    cv2.line(img, p_1, p_2, (0, 0, 0), 2)\n",
        "\n",
        "\n",
        "cv2.circle(img, (int(pf_esq[0]), int(pf_esq[1])), 8, (0, 0, 255), -1)\n",
        "cv2.circle(img, (int(pf_dir[0]), int(pf_dir[1])), 8, (0, 0, 255), -1)\n",
        "\n",
        "\n",
        "x0, y0 = 0, int((-reta_horizonte[2] - reta_horizonte[0]*0) / reta_horizonte[1])\n",
        "x1, y1 = img.shape[1], int((-reta_horizonte[2] - reta_horizonte[0]*img.shape[1]) / reta_horizonte[1])\n",
        "cv2.line(img, (x0, y0), (x1, y1), (255, 0, 0), 2)"
      ],
      "metadata": {
        "colab": {
          "base_uri": "https://localhost:8080/",
          "height": 1000
        },
        "id": "n5Ojnd6IqkSp",
        "outputId": "d651202a-9b91-45e1-a9e1-11192a709b97"
      },
      "execution_count": 111,
      "outputs": [
        {
          "output_type": "execute_result",
          "data": {
            "text/plain": [
              "array([[[255, 255, 255],\n",
              "        [255, 255, 255],\n",
              "        [255, 255, 255],\n",
              "        ...,\n",
              "        [255, 255, 255],\n",
              "        [255, 255, 255],\n",
              "        [255, 255, 255]],\n",
              "\n",
              "       [[255, 255, 255],\n",
              "        [255, 255, 255],\n",
              "        [255, 255, 255],\n",
              "        ...,\n",
              "        [255, 255, 255],\n",
              "        [255, 255, 255],\n",
              "        [255, 255, 255]],\n",
              "\n",
              "       [[255, 255, 255],\n",
              "        [255, 255, 255],\n",
              "        [255, 255, 255],\n",
              "        ...,\n",
              "        [255, 255, 255],\n",
              "        [255, 255, 255],\n",
              "        [255, 255, 255]],\n",
              "\n",
              "       ...,\n",
              "\n",
              "       [[255, 255, 255],\n",
              "        [255, 255, 255],\n",
              "        [255, 255, 255],\n",
              "        ...,\n",
              "        [255, 255, 255],\n",
              "        [255, 255, 255],\n",
              "        [255, 255, 255]],\n",
              "\n",
              "       [[255, 255, 255],\n",
              "        [255, 255, 255],\n",
              "        [255, 255, 255],\n",
              "        ...,\n",
              "        [255, 255, 255],\n",
              "        [255, 255, 255],\n",
              "        [255, 255, 255]],\n",
              "\n",
              "       [[255, 255, 255],\n",
              "        [255, 255, 255],\n",
              "        [255, 255, 255],\n",
              "        ...,\n",
              "        [255, 255, 255],\n",
              "        [255, 255, 255],\n",
              "        [255, 255, 255]]], dtype=uint8)"
            ],
            "text/html": [
              "<style>\n",
              "      .ndarray_repr .ndarray_raw_data {\n",
              "        display: none;\n",
              "      }\n",
              "      .ndarray_repr.show_array .ndarray_raw_data {\n",
              "        display: block;\n",
              "      }\n",
              "      .ndarray_repr.show_array .ndarray_image_preview {\n",
              "        display: none;\n",
              "      }\n",
              "      </style>\n",
              "      <div id=\"id-09e6023e-9192-48d8-9080-0182ac8b7a8c\" class=\"ndarray_repr\"><pre>ndarray (1000, 1000, 3) <button style=\"padding: 0 2px;\">show data</button></pre><img src=\"data:image/png;base64,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\" class=\"ndarray_image_preview\" /><pre class=\"ndarray_raw_data\">array([[[255, 255, 255],\n",
              "        [255, 255, 255],\n",
              "        [255, 255, 255],\n",
              "        ...,\n",
              "        [255, 255, 255],\n",
              "        [255, 255, 255],\n",
              "        [255, 255, 255]],\n",
              "\n",
              "       [[255, 255, 255],\n",
              "        [255, 255, 255],\n",
              "        [255, 255, 255],\n",
              "        ...,\n",
              "        [255, 255, 255],\n",
              "        [255, 255, 255],\n",
              "        [255, 255, 255]],\n",
              "\n",
              "       [[255, 255, 255],\n",
              "        [255, 255, 255],\n",
              "        [255, 255, 255],\n",
              "        ...,\n",
              "        [255, 255, 255],\n",
              "        [255, 255, 255],\n",
              "        [255, 255, 255]],\n",
              "\n",
              "       ...,\n",
              "\n",
              "       [[255, 255, 255],\n",
              "        [255, 255, 255],\n",
              "        [255, 255, 255],\n",
              "        ...,\n",
              "        [255, 255, 255],\n",
              "        [255, 255, 255],\n",
              "        [255, 255, 255]],\n",
              "\n",
              "       [[255, 255, 255],\n",
              "        [255, 255, 255],\n",
              "        [255, 255, 255],\n",
              "        ...,\n",
              "        [255, 255, 255],\n",
              "        [255, 255, 255],\n",
              "        [255, 255, 255]],\n",
              "\n",
              "       [[255, 255, 255],\n",
              "        [255, 255, 255],\n",
              "        [255, 255, 255],\n",
              "        ...,\n",
              "        [255, 255, 255],\n",
              "        [255, 255, 255],\n",
              "        [255, 255, 255]]], dtype=uint8)</pre></div><script>\n",
              "      (() => {\n",
              "      const titles = ['show data', 'hide data'];\n",
              "      let index = 0\n",
              "      document.querySelector('#id-09e6023e-9192-48d8-9080-0182ac8b7a8c button').onclick = (e) => {\n",
              "        document.querySelector('#id-09e6023e-9192-48d8-9080-0182ac8b7a8c').classList.toggle('show_array');\n",
              "        index = (++index) % 2;\n",
              "        document.querySelector('#id-09e6023e-9192-48d8-9080-0182ac8b7a8c button').textContent = titles[index];\n",
              "        e.preventDefault();\n",
              "        e.stopPropagation();\n",
              "      }\n",
              "      })();\n",
              "    </script>"
            ]
          },
          "metadata": {},
          "execution_count": 111
        }
      ]
    },
    {
      "cell_type": "code",
      "source": [],
      "metadata": {
        "id": "di9hzvQLqkVA"
      },
      "execution_count": 74,
      "outputs": []
    },
    {
      "cell_type": "code",
      "source": [],
      "metadata": {
        "id": "4wdqtpicrLS-"
      },
      "execution_count": null,
      "outputs": []
    }
  ]
}